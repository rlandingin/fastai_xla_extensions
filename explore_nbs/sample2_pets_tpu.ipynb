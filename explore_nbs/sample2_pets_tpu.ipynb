{
  "nbformat": 4,
  "nbformat_minor": 0,
  "metadata": {
    "accelerator": "TPU",
    "colab": {
      "name": "sample2-pets-tpu.ipynb",
      "provenance": [],
      "collapsed_sections": [],
      "toc_visible": true,
      "machine_shape": "hm"
    },
    "kernelspec": {
      "display_name": "Python 3",
      "language": "python",
      "name": "python3"
    },
    "language_info": {
      "codemirror_mode": {
        "name": "ipython",
        "version": 3
      },
      "file_extension": ".py",
      "mimetype": "text/x-python",
      "name": "python",
      "nbconvert_exporter": "python",
      "pygments_lexer": "ipython3",
      "version": "3.7.7"
    },
    "varInspector": {
      "cols": {
        "lenName": 16,
        "lenType": 16,
        "lenVar": 40
      },
      "kernels_config": {
        "python": {
          "delete_cmd_postfix": "",
          "delete_cmd_prefix": "del ",
          "library": "var_list.py",
          "varRefreshCmd": "print(var_dic_list())"
        },
        "r": {
          "delete_cmd_postfix": ") ",
          "delete_cmd_prefix": "rm(",
          "library": "var_list.r",
          "varRefreshCmd": "cat(var_dic_list()) "
        }
      },
      "types_to_exclude": [
        "module",
        "function",
        "builtin_function_or_method",
        "instance",
        "_Feature"
      ],
      "window_display": false
    }
  },
  "cells": [
    {
      "cell_type": "code",
      "metadata": {
        "id": "O53lrJMDn9Rd",
        "colab": {
          "base_uri": "https://localhost:8080/"
        },
        "outputId": "4d91200d-e729-49bb-b647-6b7b3d4c1353"
      },
      "source": [
        "!pip install -Uqq cloud-tpu-client==0.10 https://storage.googleapis.com/tpu-pytorch/wheels/torch_xla-1.7-cp36-cp36m-linux_x86_64.whl"
      ],
      "execution_count": 1,
      "outputs": [
        {
          "output_type": "stream",
          "text": [
            "\u001b[K     |████████████████████████████████| 133.6MB 33kB/s \n",
            "\u001b[K     |████████████████████████████████| 61kB 3.7MB/s \n",
            "\u001b[?25h"
          ],
          "name": "stdout"
        }
      ]
    },
    {
      "cell_type": "code",
      "metadata": {
        "id": "n5brhMy3uzfS",
        "colab": {
          "base_uri": "https://localhost:8080/"
        },
        "outputId": "4a7f27ee-8297-4e9f-c0b0-a98132c580a3"
      },
      "source": [
        "# !pip install -Uqq git+https://github.com/fastai/fastai.git \n",
        "!pip install -Uqq fastai --upgrade"
      ],
      "execution_count": 2,
      "outputs": [
        {
          "output_type": "stream",
          "text": [
            "\u001b[K     |████████████████████████████████| 194kB 6.6MB/s \n",
            "\u001b[K     |████████████████████████████████| 61kB 5.8MB/s \n",
            "\u001b[?25h"
          ],
          "name": "stdout"
        }
      ]
    },
    {
      "cell_type": "code",
      "metadata": {
        "colab": {
          "base_uri": "https://localhost:8080/"
        },
        "id": "hrVR2QGNFj9-",
        "outputId": "4acc4524-c279-4311-b29d-35ec74c57f9c"
      },
      "source": [
        "!pip install -Uqq git+https://github.com/butchland/fastai_xla_extensions.git"
      ],
      "execution_count": 3,
      "outputs": [
        {
          "output_type": "stream",
          "text": [
            "  Building wheel for fastai-xla-extensions (setup.py) ... \u001b[?25l\u001b[?25hdone\n"
          ],
          "name": "stdout"
        }
      ]
    },
    {
      "cell_type": "code",
      "metadata": {
        "colab": {
          "base_uri": "https://localhost:8080/"
        },
        "id": "8HYizmSonC3r",
        "outputId": "e8ac45db-1257-4e25-c608-3a8489f50c25"
      },
      "source": [
        "!pip install -Uqq git+https://github.com/butchland/my_timesaver_utils.git"
      ],
      "execution_count": 4,
      "outputs": [
        {
          "output_type": "stream",
          "text": [
            "  Building wheel for my-timesaver-utils (setup.py) ... \u001b[?25l\u001b[?25hdone\n"
          ],
          "name": "stdout"
        }
      ]
    },
    {
      "cell_type": "code",
      "metadata": {
        "id": "-maBHnlmDPVw",
        "colab": {
          "base_uri": "https://localhost:8080/"
        },
        "outputId": "3d8535c2-d2a2-406a-bbf5-de0f8e7d5856"
      },
      "source": [
        "!curl -s https://course19.fast.ai/setup/colab | bash"
      ],
      "execution_count": 5,
      "outputs": [
        {
          "output_type": "stream",
          "text": [
            "Updating fastai...\n",
            "Done.\n"
          ],
          "name": "stdout"
        }
      ]
    },
    {
      "cell_type": "code",
      "metadata": {
        "id": "cfLJEMVZFS2d",
        "colab": {
          "base_uri": "https://localhost:8080/"
        },
        "outputId": "9f161108-a43a-41ac-ebd9-03ee3a0ec2a7"
      },
      "source": [
        "!pip freeze | grep torch\n",
        "!pip freeze | grep fast"
      ],
      "execution_count": 6,
      "outputs": [
        {
          "output_type": "stream",
          "text": [
            "torch==1.7.0+cu101\n",
            "torch-xla==1.7\n",
            "torchsummary==1.5.1\n",
            "torchtext==0.3.1\n",
            "torchvision==0.8.1+cu101\n",
            "fastai==2.2.5\n",
            "fastai-xla-extensions==0.0.7\n",
            "fastcore==1.3.19\n",
            "fastdtw==0.3.4\n",
            "fastprogress==1.0.0\n",
            "fastrlock==0.5\n"
          ],
          "name": "stdout"
        }
      ]
    },
    {
      "cell_type": "code",
      "metadata": {
        "id": "oymSyPRqC8WN"
      },
      "source": [
        "# a = []\n",
        "# while(1):\n",
        "#     a.append('1')"
      ],
      "execution_count": 7,
      "outputs": []
    },
    {
      "cell_type": "markdown",
      "metadata": {
        "id": "9ocI5r3XzwpW"
      },
      "source": [
        "Start of kernel"
      ]
    },
    {
      "cell_type": "code",
      "metadata": {
        "colab": {
          "base_uri": "https://localhost:8080/"
        },
        "id": "e-8b7AzXwPKL",
        "outputId": "6ccfa3ee-16e6-4f55-b187-36eba31336a1"
      },
      "source": [
        "from fastai.vision.all import *\n",
        "from fastai_xla_extensions.multi_core import *\n",
        "import torch_xla.core.xla_model as xm\n",
        "import torch_xla.distributed.xla_multiprocessing as xmp\n",
        "import torchvision as thv"
      ],
      "execution_count": 1,
      "outputs": [
        {
          "output_type": "stream",
          "text": [
            "WARNING:root:TPU has started up successfully with version pytorch-1.7\n"
          ],
          "name": "stderr"
        }
      ]
    },
    {
      "cell_type": "code",
      "metadata": {
        "id": "H_jP6yfYIDWg"
      },
      "source": [
        "FLAGS = {}\n",
        "FLAGS['image_size'] = 224\n",
        "FLAGS['batch_size'] = 16\n",
        "FLAGS['freeze_epochs'] = 1\n",
        "FLAGS['epochs'] = 9\n",
        "FLAGS['moms'] = (0.9,0.95,0.9)\n",
        "FLAGS['weight_decay'] = 5e-4\n",
        "FLAGS['learning_rate'] = 2e-3\n",
        "FLAGS['num_workers'] = 4\n",
        "FLAGS['nprocs'] = 8\n",
        "FLAGS['sync_valid'] = True"
      ],
      "execution_count": 2,
      "outputs": []
    },
    {
      "cell_type": "code",
      "metadata": {
        "id": "BGKqZJw60egC"
      },
      "source": [
        "path = untar_data(URLs.PETS)/'images'"
      ],
      "execution_count": 3,
      "outputs": []
    },
    {
      "cell_type": "code",
      "metadata": {
        "id": "gR3Vtvmm0nu_"
      },
      "source": [
        "imagenet_norm = thv.transforms.Normalize(\n",
        "    mean=(0.485, 0.456, 0.406), \n",
        "    std=(0.229, 0.224, 0.225))\n",
        "\n",
        "image_size = FLAGS['image_size']\n",
        "splitter = RandomSplitter(seed=42)\n",
        "pat = r'(.+)_\\d+.jpg$'\n",
        "fname_labeller = FileNamePatternLabeller(pat)\n",
        "\n",
        "dset_builder = TorchDatasetBuilder(\n",
        "    path, \n",
        "    get_items=get_image_files,\n",
        "    splitter=splitter,\n",
        "    x_tfms=[thv.transforms.Resize((image_size,image_size)), thv.transforms.ToTensor(), imagenet_norm],\n",
        "    y_tfms=[fname_labeller, VocabularyMapper(),],\n",
        "    x_type_tfms=PILImage.create,\n",
        ") \n",
        "\n",
        "dset_builder.setup(get_image_files(path),do_setup=True)\n",
        "n_out = dset_builder.y_tfms[1].c     \n",
        "\n",
        "custom_model = create_cnn_model(resnet34, n_out,\n",
        "                                pretrained=True,\n",
        "                                concat_pool=False)\n",
        "\n",
        "wrapped_model = xmp.MpModelWrapper(custom_model)"
      ],
      "execution_count": 4,
      "outputs": []
    },
    {
      "cell_type": "code",
      "metadata": {
        "id": "xWI-aX9f3ERI"
      },
      "source": [
        "def train_torch_model(rank, flags):\n",
        "    xm.master_print('start training')\n",
        "    world_size = xm.xrt_world_size()\n",
        "    device = xm.xla_device()\n",
        "    dsets = dset_builder.get_datasets()\n",
        "    sync_valid = flags['sync_valid']\n",
        "    dls = make_torch_dataloaders(\n",
        "            *dsets, \n",
        "            rank=rank, \n",
        "            world_size=world_size,\n",
        "            sync_valid=sync_valid,\n",
        "            bs=flags['batch_size'],\n",
        "            num_workers=flags['num_workers'])\n",
        "    model = wrapped_model.to(device)\n",
        "    learner = Learner(\n",
        "            dls,\n",
        "            model,\n",
        "            loss_func=nn.CrossEntropyLoss(),\n",
        "            opt_func=Adam,\n",
        "            wd=flags['weight_decay'],\n",
        "            moms=flags['moms'],\n",
        "            metrics=accuracy\n",
        "            )\n",
        "    learner.to_xla(device,rank=rank, sync_valid=sync_valid)\n",
        "    lr = flags['learning_rate'] * world_size\n",
        "    learner.freeze()\n",
        "    freeze_epochs = flags['freeze_epochs']\n",
        "    learner.fit_one_cycle(freeze_epochs,lr_max=slice(lr/10.))\n",
        "    learner.unfreeze()\n",
        "    epochs = flags['epochs']\n",
        "    learner.fit_one_cycle(epochs, lr_max=slice(lr/50, lr/20.))\n",
        "    learner.save('stage-1')\n",
        "    xm.mark_step()\n",
        "    xm.rendezvous('end training')"
      ],
      "execution_count": 5,
      "outputs": []
    },
    {
      "cell_type": "code",
      "metadata": {
        "colab": {
          "base_uri": "https://localhost:8080/",
          "height": 476
        },
        "id": "0A0O2S2C_PT9",
        "outputId": "d4262c87-2e3a-4df4-a296-90daecb08424"
      },
      "source": [
        "%%time\n",
        "xmp.spawn(train_torch_model, args=(FLAGS,), nprocs=FLAGS['nprocs'],start_method='fork')"
      ],
      "execution_count": 6,
      "outputs": [
        {
          "output_type": "stream",
          "text": [
            "start training\n",
            "start fit\n"
          ],
          "name": "stdout"
        },
        {
          "output_type": "display_data",
          "data": {
            "text/html": [
              "<table border=\"1\" class=\"dataframe\">\n",
              "  <thead>\n",
              "    <tr style=\"text-align: left;\">\n",
              "      <th>epoch</th>\n",
              "      <th>train_loss</th>\n",
              "      <th>valid_loss</th>\n",
              "      <th>accuracy</th>\n",
              "      <th>time</th>\n",
              "    </tr>\n",
              "  </thead>\n",
              "  <tbody>\n",
              "    <tr>\n",
              "      <td>0</td>\n",
              "      <td>3.122826</td>\n",
              "      <td>1.765789</td>\n",
              "      <td>0.490767</td>\n",
              "      <td>01:24</td>\n",
              "    </tr>\n",
              "  </tbody>\n",
              "</table>"
            ],
            "text/plain": [
              "<IPython.core.display.HTML object>"
            ]
          },
          "metadata": {
            "tags": []
          }
        },
        {
          "output_type": "stream",
          "text": [
            "start fit\n"
          ],
          "name": "stdout"
        },
        {
          "output_type": "display_data",
          "data": {
            "text/html": [
              "<table border=\"1\" class=\"dataframe\">\n",
              "  <thead>\n",
              "    <tr style=\"text-align: left;\">\n",
              "      <th>epoch</th>\n",
              "      <th>train_loss</th>\n",
              "      <th>valid_loss</th>\n",
              "      <th>accuracy</th>\n",
              "      <th>time</th>\n",
              "    </tr>\n",
              "  </thead>\n",
              "  <tbody>\n",
              "    <tr>\n",
              "      <td>0</td>\n",
              "      <td>1.894270</td>\n",
              "      <td>1.183541</td>\n",
              "      <td>0.630682</td>\n",
              "      <td>00:56</td>\n",
              "    </tr>\n",
              "    <tr>\n",
              "      <td>1</td>\n",
              "      <td>1.594882</td>\n",
              "      <td>1.373223</td>\n",
              "      <td>0.612216</td>\n",
              "      <td>00:38</td>\n",
              "    </tr>\n",
              "    <tr>\n",
              "      <td>2</td>\n",
              "      <td>1.397997</td>\n",
              "      <td>1.346275</td>\n",
              "      <td>0.638494</td>\n",
              "      <td>00:38</td>\n",
              "    </tr>\n",
              "    <tr>\n",
              "      <td>3</td>\n",
              "      <td>1.051991</td>\n",
              "      <td>1.757740</td>\n",
              "      <td>0.607955</td>\n",
              "      <td>00:38</td>\n",
              "    </tr>\n",
              "    <tr>\n",
              "      <td>4</td>\n",
              "      <td>0.778872</td>\n",
              "      <td>0.749870</td>\n",
              "      <td>0.761364</td>\n",
              "      <td>00:39</td>\n",
              "    </tr>\n",
              "    <tr>\n",
              "      <td>5</td>\n",
              "      <td>0.494066</td>\n",
              "      <td>0.681093</td>\n",
              "      <td>0.816051</td>\n",
              "      <td>00:39</td>\n",
              "    </tr>\n",
              "    <tr>\n",
              "      <td>6</td>\n",
              "      <td>0.304292</td>\n",
              "      <td>0.626312</td>\n",
              "      <td>0.822443</td>\n",
              "      <td>00:39</td>\n",
              "    </tr>\n",
              "    <tr>\n",
              "      <td>7</td>\n",
              "      <td>0.186618</td>\n",
              "      <td>0.532715</td>\n",
              "      <td>0.840909</td>\n",
              "      <td>00:38</td>\n",
              "    </tr>\n",
              "    <tr>\n",
              "      <td>8</td>\n",
              "      <td>0.108884</td>\n",
              "      <td>0.527642</td>\n",
              "      <td>0.853693</td>\n",
              "      <td>00:39</td>\n",
              "    </tr>\n",
              "  </tbody>\n",
              "</table>"
            ],
            "text/plain": [
              "<IPython.core.display.HTML object>"
            ]
          },
          "metadata": {
            "tags": []
          }
        },
        {
          "output_type": "stream",
          "text": [
            "CPU times: user 321 ms, sys: 313 ms, total: 634 ms\n",
            "Wall time: 7min 47s\n"
          ],
          "name": "stdout"
        }
      ]
    },
    {
      "cell_type": "code",
      "metadata": {
        "id": "y85hrEheGigz"
      },
      "source": [
        ""
      ],
      "execution_count": 6,
      "outputs": []
    }
  ]
}